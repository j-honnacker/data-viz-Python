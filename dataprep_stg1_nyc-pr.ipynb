{
 "cells": [
  {
   "cell_type": "code",
   "execution_count": 1,
   "metadata": {},
   "outputs": [],
   "source": [
    "import numpy as np\n",
    "import pandas as pd"
   ]
  },
  {
   "cell_type": "code",
   "execution_count": 2,
   "metadata": {},
   "outputs": [],
   "source": [
    "# link that was used to obtain the data file (last accessed 8-MAR-2020)\n",
    "link_stg0 = \"https://data.cityofnewyork.us/api/views/k397-673e/rows.csv?accessType=DOWNLOAD\"\n",
    "\n",
    "# downloaded data file (not included in remote repository)\n",
    "file_stg0 = \"data_stg0/Citywide_Payroll_Data__Fiscal_Year_.csv\""
   ]
  },
  {
   "cell_type": "code",
   "execution_count": 3,
   "metadata": {},
   "outputs": [],
   "source": [
    "# Read stage 0 \"NYC payroll\" data\n",
    "nyc_pr = pd.read_csv(\n",
    "    \n",
    "    link_stg0, # link to the file (last accessed 8-MAR-2020)\n",
    "    #file_stg0, # due to its size, the file is not included in the remote repository\n",
    "    \n",
    "    usecols = [\n",
    "        'Fiscal Year',\n",
    "        'Agency Name',\n",
    "        'Agency Start Date',\n",
    "        'Work Location Borough',\n",
    "        'Title Description',\n",
    "        'Leave Status as of June 30',\n",
    "        'Base Salary',\n",
    "        'Pay Basis',\n",
    "        'OT Hours',\n",
    "        'Total OT Paid'\n",
    "    ],\n",
    "    \n",
    "    dtype = {\n",
    "        'Fiscal Year'          : np.int64,\n",
    "        'Agency Name'          : object,\n",
    "        'Agency Start Date'    : object,\n",
    "        'Work Location Borough': object,\n",
    "        'Title Description'    : object,\n",
    "        'Leave Status as of June 30': object,\n",
    "        'Base Salary'          : np.float64,\n",
    "        'Pay Basis'            : object,\n",
    "        'OT Hours'             : np.float64,\n",
    "        'Total OT Paid'        : np.float64\n",
    "    },\n",
    "    \n",
    "    parse_dates = [\n",
    "        'Agency Start Date'\n",
    "    ]\n",
    ")"
   ]
  },
  {
   "cell_type": "code",
   "execution_count": 4,
   "metadata": {
    "scrolled": true
   },
   "outputs": [],
   "source": [
    "# Create stage 1 \"NYC payroll\" DataFrames\n",
    "\n",
    "# Define filter\n",
    "pr_filter = (\n",
    "    ( nyc_pr['Leave Status as of June 30'] == 'ACTIVE') & # ACTIVE employees whose base salary\n",
    "    ( nyc_pr['Pay Basis'] == 'per Annum' ) &              #  * is defined per annum\n",
    "    ( nyc_pr['Base Salary'] > 1 )                         #  * exceeds 1 Dollar\n",
    ")\n",
    "\n",
    "# Define columns to keep\n",
    "pr_columns = [\n",
    "    'Fiscal Year',\n",
    "    'Agency Name',\n",
    "    'Agency Start Date',\n",
    "    'Work Location Borough',\n",
    "    'Title Description',\n",
    "    'Base Salary',\n",
    "    'OT Hours',\n",
    "    'Total OT Paid'\n",
    "]\n",
    "\n",
    "# Apply row and column filters\n",
    "nyc_pr_2018 = nyc_pr.loc[nyc_pr[pr_filter & ( nyc_pr['Fiscal Year'] == 2018 )].index, pr_columns]\n",
    "nyc_pr_2019 = nyc_pr.loc[nyc_pr[pr_filter & ( nyc_pr['Fiscal Year'] == 2019 )].index, pr_columns]"
   ]
  },
  {
   "cell_type": "code",
   "execution_count": 5,
   "metadata": {},
   "outputs": [],
   "source": [
    "# Save stage 1 \"NYC payroll\" data\n",
    "nyc_pr_2018.to_csv('data_stg1/nyc_pr_2018.csv', index=False)\n",
    "nyc_pr_2019.to_csv('data_stg1/nyc_pr_2019.csv', index=False)"
   ]
  }
 ],
 "metadata": {
  "kernelspec": {
   "display_name": "Python 3",
   "language": "python",
   "name": "python3"
  },
  "language_info": {
   "codemirror_mode": {
    "name": "ipython",
    "version": 3
   },
   "file_extension": ".py",
   "mimetype": "text/x-python",
   "name": "python",
   "nbconvert_exporter": "python",
   "pygments_lexer": "ipython3",
   "version": "3.7.6"
  }
 },
 "nbformat": 4,
 "nbformat_minor": 4
}
