{
 "cells": [
  {
   "cell_type": "markdown",
   "metadata": {},
   "source": [
    "# Create data set `townhouses`"
   ]
  },
  {
   "cell_type": "code",
   "execution_count": 1,
   "metadata": {},
   "outputs": [],
   "source": [
    "import pandas as pd\n",
    "\n",
    "from numpy import nan\n",
    "\n",
    "import matplotlib.pyplot as plt\n",
    "\n",
    "%matplotlib inline"
   ]
  },
  {
   "cell_type": "code",
   "execution_count": 2,
   "metadata": {},
   "outputs": [],
   "source": [
    "ames = pd.read_csv(\"data_stg1/AmesHousing.csv\")"
   ]
  },
  {
   "cell_type": "markdown",
   "metadata": {},
   "source": [
    "## Apply \"townhouse conditions\""
   ]
  },
  {
   "cell_type": "code",
   "execution_count": 3,
   "metadata": {},
   "outputs": [],
   "source": [
    "# Define basic conditions\n",
    "conditions = ((ames['Bldg Type'].isin(['TwnhsE', 'Twnhs'])) &      # only townhouses\n",
    "              (ames['Functional'].isin(['Typ', 'Min1', 'Min2'])) & # home functionality: Typical or minor deductions\n",
    "              (ames['Bedroom AbvGr'] >= 1) &                       # bedroom (above grade): at least 1\n",
    "              (ames['Kitchen AbvGr'] >= 1) &                       # kitchen (above grade): at least 1\n",
    "              (ames['Overall Qual'] >= 5) &                        # material and finish: average or better\n",
    "              (ames['Overall Cond'] >= 5)                          # overall condition: average or better)\n",
    "             )\n",
    "\n",
    "# Apply basic conditions\n",
    "townhouses = ames.loc[ames[conditions].index, :]                 \n",
    "\n",
    "# Create new columns\n",
    "townhouses['Full Bathrooms'] = townhouses['Bsmt Full Bath'] + townhouses['Full Bath']\n",
    "townhouses['Half Bathrooms'] = townhouses['Bsmt Half Bath'] + townhouses['Half Bath']"
   ]
  },
  {
   "cell_type": "markdown",
   "metadata": {},
   "source": [
    "## Get rid off categories with too few values"
   ]
  },
  {
   "cell_type": "markdown",
   "metadata": {},
   "source": [
    "### Categorical variables 1/2"
   ]
  },
  {
   "cell_type": "markdown",
   "metadata": {},
   "source": [
    "#### Explore"
   ]
  },
  {
   "cell_type": "code",
   "execution_count": 4,
   "metadata": {
    "scrolled": true
   },
   "outputs": [
    {
     "data": {
      "text/html": [
       "<div>\n",
       "<style scoped>\n",
       "    .dataframe tbody tr th:only-of-type {\n",
       "        vertical-align: middle;\n",
       "    }\n",
       "\n",
       "    .dataframe tbody tr th {\n",
       "        vertical-align: top;\n",
       "    }\n",
       "\n",
       "    .dataframe thead th {\n",
       "        text-align: right;\n",
       "    }\n",
       "</style>\n",
       "<table border=\"1\" class=\"dataframe\">\n",
       "  <thead>\n",
       "    <tr style=\"text-align: right;\">\n",
       "      <th>Half Bathrooms</th>\n",
       "      <th>0.0</th>\n",
       "      <th>1.0</th>\n",
       "      <th>2.0</th>\n",
       "      <th>4.0</th>\n",
       "    </tr>\n",
       "    <tr>\n",
       "      <th>Full Bathrooms</th>\n",
       "      <th></th>\n",
       "      <th></th>\n",
       "      <th></th>\n",
       "      <th></th>\n",
       "    </tr>\n",
       "  </thead>\n",
       "  <tbody>\n",
       "    <tr>\n",
       "      <th>0.0</th>\n",
       "      <td>0</td>\n",
       "      <td>0</td>\n",
       "      <td>0</td>\n",
       "      <td>1</td>\n",
       "    </tr>\n",
       "    <tr>\n",
       "      <th>1.0</th>\n",
       "      <td>5</td>\n",
       "      <td>29</td>\n",
       "      <td>2</td>\n",
       "      <td>0</td>\n",
       "    </tr>\n",
       "    <tr>\n",
       "      <th>2.0</th>\n",
       "      <td>91</td>\n",
       "      <td>66</td>\n",
       "      <td>2</td>\n",
       "      <td>0</td>\n",
       "    </tr>\n",
       "    <tr>\n",
       "      <th>3.0</th>\n",
       "      <td>70</td>\n",
       "      <td>31</td>\n",
       "      <td>0</td>\n",
       "      <td>0</td>\n",
       "    </tr>\n",
       "    <tr>\n",
       "      <th>4.0</th>\n",
       "      <td>1</td>\n",
       "      <td>0</td>\n",
       "      <td>0</td>\n",
       "      <td>0</td>\n",
       "    </tr>\n",
       "  </tbody>\n",
       "</table>\n",
       "</div>"
      ],
      "text/plain": [
       "Half Bathrooms  0.0  1.0  2.0  4.0\n",
       "Full Bathrooms                    \n",
       "0.0               0    0    0    1\n",
       "1.0               5   29    2    0\n",
       "2.0              91   66    2    0\n",
       "3.0              70   31    0    0\n",
       "4.0               1    0    0    0"
      ]
     },
     "execution_count": 4,
     "metadata": {},
     "output_type": "execute_result"
    }
   ],
   "source": [
    "pd.crosstab(townhouses['Full Bathrooms'], townhouses['Half Bathrooms'])"
   ]
  },
  {
   "cell_type": "markdown",
   "metadata": {},
   "source": [
    "#### Adjust"
   ]
  },
  {
   "cell_type": "code",
   "execution_count": 5,
   "metadata": {},
   "outputs": [],
   "source": [
    "townhouses = townhouses[(townhouses['Full Bathrooms'].between(1,3)) &\n",
    "                        (townhouses['Half Bathrooms'].between(0,1))\n",
    "                       ]"
   ]
  },
  {
   "cell_type": "markdown",
   "metadata": {},
   "source": [
    "#### Check out adjusted data"
   ]
  },
  {
   "cell_type": "code",
   "execution_count": 6,
   "metadata": {},
   "outputs": [
    {
     "data": {
      "text/html": [
       "<div>\n",
       "<style scoped>\n",
       "    .dataframe tbody tr th:only-of-type {\n",
       "        vertical-align: middle;\n",
       "    }\n",
       "\n",
       "    .dataframe tbody tr th {\n",
       "        vertical-align: top;\n",
       "    }\n",
       "\n",
       "    .dataframe thead th {\n",
       "        text-align: right;\n",
       "    }\n",
       "</style>\n",
       "<table border=\"1\" class=\"dataframe\">\n",
       "  <thead>\n",
       "    <tr style=\"text-align: right;\">\n",
       "      <th>Half Bathrooms</th>\n",
       "      <th>0.0</th>\n",
       "      <th>1.0</th>\n",
       "    </tr>\n",
       "    <tr>\n",
       "      <th>Full Bathrooms</th>\n",
       "      <th></th>\n",
       "      <th></th>\n",
       "    </tr>\n",
       "  </thead>\n",
       "  <tbody>\n",
       "    <tr>\n",
       "      <th>1.0</th>\n",
       "      <td>5</td>\n",
       "      <td>29</td>\n",
       "    </tr>\n",
       "    <tr>\n",
       "      <th>2.0</th>\n",
       "      <td>91</td>\n",
       "      <td>66</td>\n",
       "    </tr>\n",
       "    <tr>\n",
       "      <th>3.0</th>\n",
       "      <td>70</td>\n",
       "      <td>31</td>\n",
       "    </tr>\n",
       "  </tbody>\n",
       "</table>\n",
       "</div>"
      ],
      "text/plain": [
       "Half Bathrooms  0.0  1.0\n",
       "Full Bathrooms          \n",
       "1.0               5   29\n",
       "2.0              91   66\n",
       "3.0              70   31"
      ]
     },
     "execution_count": 6,
     "metadata": {},
     "output_type": "execute_result"
    }
   ],
   "source": [
    "pd.crosstab(townhouses['Full Bathrooms'], townhouses['Half Bathrooms'])"
   ]
  },
  {
   "cell_type": "markdown",
   "metadata": {},
   "source": [
    "### Categorical variables 2/2"
   ]
  },
  {
   "cell_type": "markdown",
   "metadata": {},
   "source": [
    "#### Explore"
   ]
  },
  {
   "cell_type": "code",
   "execution_count": 7,
   "metadata": {},
   "outputs": [
    {
     "name": "stdout",
     "output_type": "stream",
     "text": [
      "Typ     288\n",
      "Min1      4\n",
      "Name: Functional, dtype: int64 \n",
      "\n",
      "6     105\n",
      "7      82\n",
      "8      63\n",
      "9      21\n",
      "5      20\n",
      "10      1\n",
      "Name: Overall Qual, dtype: int64 \n",
      "\n",
      "5    246\n",
      "6     36\n",
      "7      8\n",
      "9      1\n",
      "8      1\n",
      "Name: Overall Cond, dtype: int64 \n",
      "\n",
      "1Story    183\n",
      "2Story     99\n",
      "SFoyer      6\n",
      "SLvl        3\n",
      "1.5Fin      1\n",
      "Name: House Style, dtype: int64 \n",
      "\n",
      "2    190\n",
      "1     50\n",
      "3     48\n",
      "4      4\n",
      "Name: Bedroom AbvGr, dtype: int64 \n",
      "\n",
      "1    292\n",
      "Name: Kitchen AbvGr, dtype: int64 \n",
      "\n",
      "Gd    178\n",
      "TA     85\n",
      "Ex     29\n",
      "Name: Kitchen Qual, dtype: int64 \n",
      "\n",
      "Attchd     208\n",
      "Detchd      68\n",
      "Basment      7\n",
      "BuiltIn      6\n",
      "NaN          3\n",
      "Name: Garage Type, dtype: int64 \n",
      "\n",
      "1    156\n",
      "0    129\n",
      "2      6\n",
      "3      1\n",
      "Name: Fireplaces, dtype: int64 \n",
      "\n"
     ]
    }
   ],
   "source": [
    "for col in ['Functional',  'Overall Qual', 'Overall Cond', 'House Style',\n",
    "            'Bedroom AbvGr',\n",
    "            'Kitchen AbvGr', 'Kitchen Qual',\n",
    "            'Garage Type',\n",
    "            'Fireplaces']:\n",
    "    print(townhouses[col].value_counts(dropna=False), \"\\n\")"
   ]
  },
  {
   "cell_type": "markdown",
   "metadata": {},
   "source": [
    "#### Adjust"
   ]
  },
  {
   "cell_type": "code",
   "execution_count": 8,
   "metadata": {},
   "outputs": [],
   "source": [
    "townhouses = townhouses[(townhouses['Bedroom AbvGr'].between(1, 3)) &\n",
    "                        (townhouses['Garage Type'].isin(['Attchd', 'Detchd'])) &\n",
    "                        (townhouses['House Style'].isin(['1Story', '2Story'])) &\n",
    "                        (townhouses['Fireplaces'].between(0, 1))\n",
    "                       ]"
   ]
  },
  {
   "cell_type": "markdown",
   "metadata": {},
   "source": [
    "#### Check out adjusted data"
   ]
  },
  {
   "cell_type": "code",
   "execution_count": 9,
   "metadata": {},
   "outputs": [
    {
     "name": "stdout",
     "output_type": "stream",
     "text": [
      "Typ     259\n",
      "Min1      4\n",
      "Name: Functional, dtype: int64 \n",
      "\n",
      "6     95\n",
      "7     74\n",
      "8     58\n",
      "9     21\n",
      "5     14\n",
      "10     1\n",
      "Name: Overall Qual, dtype: int64 \n",
      "\n",
      "5    226\n",
      "6     30\n",
      "7      6\n",
      "8      1\n",
      "Name: Overall Cond, dtype: int64 \n",
      "\n",
      "1Story    177\n",
      "2Story     86\n",
      "Name: House Style, dtype: int64 \n",
      "\n",
      "2    177\n",
      "3     43\n",
      "1     43\n",
      "Name: Bedroom AbvGr, dtype: int64 \n",
      "\n",
      "1    263\n",
      "Name: Kitchen AbvGr, dtype: int64 \n",
      "\n",
      "Gd    167\n",
      "TA     70\n",
      "Ex     26\n",
      "Name: Kitchen Qual, dtype: int64 \n",
      "\n",
      "Attchd    197\n",
      "Detchd     66\n",
      "Name: Garage Type, dtype: int64 \n",
      "\n",
      "1    152\n",
      "0    111\n",
      "Name: Fireplaces, dtype: int64 \n",
      "\n"
     ]
    }
   ],
   "source": [
    "for col in ['Functional',  'Overall Qual', 'Overall Cond', 'House Style',\n",
    "            'Bedroom AbvGr',\n",
    "            'Kitchen AbvGr', 'Kitchen Qual',\n",
    "            'Garage Type',\n",
    "            'Fireplaces']:\n",
    "    print(townhouses[col].value_counts(dropna=False), \"\\n\")"
   ]
  },
  {
   "cell_type": "markdown",
   "metadata": {},
   "source": [
    "### Continuous variables"
   ]
  },
  {
   "cell_type": "markdown",
   "metadata": {},
   "source": [
    "#### Explore"
   ]
  },
  {
   "cell_type": "code",
   "execution_count": 10,
   "metadata": {
    "scrolled": true
   },
   "outputs": [
    {
     "name": "stdout",
     "output_type": "stream",
     "text": [
      "Lot Area\n",
      "========\n"
     ]
    },
    {
     "data": {
      "image/png": "[encoded data removed]",
      "text/plain": [
       "<Figure size 432x288 with 1 Axes>"
      ]
     },
     "metadata": {
      "needs_background": "light"
     },
     "output_type": "display_data"
    },
    {
     "name": "stdout",
     "output_type": "stream",
     "text": [
      "First 5 smallest values (including NaNs):\n",
      "935     1300\n",
      "933     1488\n",
      "934     1612\n",
      "407     1680\n",
      "1040    1680\n",
      "Name: Lot Area, dtype: int64 \n",
      "\n",
      "\n",
      "Total Bsmt SF\n",
      "=============\n"
     ]
    },
    {
     "data": {
      "image/png": "[encoded data removed]",
      "text/plain": [
       "<Figure size 432x288 with 1 Axes>"
      ]
     },
     "metadata": {
      "needs_background": "light"
     },
     "output_type": "display_data"
    },
    {
     "name": "stdout",
     "output_type": "stream",
     "text": [
      "First 5 smallest values (including NaNs):\n",
      "2887      0.0\n",
      "1041    483.0\n",
      "405     483.0\n",
      "406     483.0\n",
      "1040    483.0\n",
      "Name: Total Bsmt SF, dtype: float64 \n",
      "\n",
      "\n",
      "SalePrice\n",
      "=========\n"
     ]
    },
    {
     "data": {
      "image/png": "[encoded data removed]",
      "text/plain": [
       "<Figure size 432x288 with 1 Axes>"
      ]
     },
     "metadata": {
      "needs_background": "light"
     },
     "output_type": "display_data"
    },
    {
     "name": "stdout",
     "output_type": "stream",
     "text": [
      "First 5 smallest values (including NaNs):\n",
      "2361    83000\n",
      "1043    85400\n",
      "31      88000\n",
      "2365    89000\n",
      "2367    94500\n",
      "Name: SalePrice, dtype: int64 \n",
      "\n",
      "\n"
     ]
    }
   ],
   "source": [
    "for col in ['Lot Area', 'Total Bsmt SF', 'SalePrice']:\n",
    "    \n",
    "    print(col)\n",
    "    print(\"=\"*len(col))\n",
    "    \n",
    "    townhouses[col].plot(kind='hist')\n",
    "    plt.show()\n",
    "    \n",
    "    print(\"First 5 smallest values (including NaNs):\")\n",
    "    print(townhouses[col].sort_values(na_position='first')[:5], \"\\n\\n\")"
   ]
  },
  {
   "cell_type": "markdown",
   "metadata": {},
   "source": [
    "#### Adjust"
   ]
  },
  {
   "cell_type": "code",
   "execution_count": 11,
   "metadata": {},
   "outputs": [],
   "source": [
    "townhouses = townhouses[townhouses['Total Bsmt SF'] > 0]"
   ]
  },
  {
   "cell_type": "markdown",
   "metadata": {},
   "source": [
    "#### Check out adjusted data"
   ]
  },
  {
   "cell_type": "code",
   "execution_count": 12,
   "metadata": {},
   "outputs": [
    {
     "name": "stdout",
     "output_type": "stream",
     "text": [
      "Lot Area\n",
      "========\n"
     ]
    },
    {
     "data": {
      "image/png": "[encoded data removed]",
      "text/plain": [
       "<Figure size 432x288 with 1 Axes>"
      ]
     },
     "metadata": {
      "needs_background": "light"
     },
     "output_type": "display_data"
    },
    {
     "name": "stdout",
     "output_type": "stream",
     "text": [
      "First 5 smallest values (including NaNs):\n",
      "935     1300\n",
      "933     1488\n",
      "934     1612\n",
      "407     1680\n",
      "1040    1680\n",
      "Name: Lot Area, dtype: int64 \n",
      "\n",
      "\n",
      "Total Bsmt SF\n",
      "=============\n"
     ]
    },
    {
     "data": {
      "image/png": "[encoded data removed]",
      "text/plain": [
       "<Figure size 432x288 with 1 Axes>"
      ]
     },
     "metadata": {
      "needs_background": "light"
     },
     "output_type": "display_data"
    },
    {
     "name": "stdout",
     "output_type": "stream",
     "text": [
      "First 5 smallest values (including NaNs):\n",
      "406     483.0\n",
      "405     483.0\n",
      "402     483.0\n",
      "29      483.0\n",
      "1040    483.0\n",
      "Name: Total Bsmt SF, dtype: float64 \n",
      "\n",
      "\n",
      "SalePrice\n",
      "=========\n"
     ]
    },
    {
     "data": {
      "image/png": "[encoded data removed]",
      "text/plain": [
       "<Figure size 432x288 with 1 Axes>"
      ]
     },
     "metadata": {
      "needs_background": "light"
     },
     "output_type": "display_data"
    },
    {
     "name": "stdout",
     "output_type": "stream",
     "text": [
      "First 5 smallest values (including NaNs):\n",
      "2361    83000\n",
      "1043    85400\n",
      "31      88000\n",
      "2365    89000\n",
      "2367    94500\n",
      "Name: SalePrice, dtype: int64 \n",
      "\n",
      "\n"
     ]
    }
   ],
   "source": [
    "for col in ['Lot Area', 'Total Bsmt SF', 'SalePrice']:\n",
    "    \n",
    "    print(col)\n",
    "    print(\"=\"*len(col))\n",
    "    \n",
    "    townhouses[col].plot(kind='hist')\n",
    "    plt.show()\n",
    "    \n",
    "    print(\"First 5 smallest values (including NaNs):\")\n",
    "    print(townhouses[col].sort_values(na_position='first')[:5], \"\\n\\n\")"
   ]
  },
  {
   "cell_type": "markdown",
   "metadata": {},
   "source": [
    "## Write final DataFrame to CSV"
   ]
  },
  {
   "cell_type": "code",
   "execution_count": 13,
   "metadata": {},
   "outputs": [],
   "source": [
    "cols = [# Discrete \n",
    "        'Year Built',     \n",
    "        'Year Remod/Add',\n",
    "        'Yr Sold',\n",
    "        'Full Bathrooms',\n",
    "        'Half Bathrooms',\n",
    "        'Bedroom AbvGr',\n",
    "        'Kitchen AbvGr',\n",
    "        'Fireplaces',\n",
    "        \n",
    "        # Ordinal\n",
    "        'Functional',\n",
    "        'Overall Qual',\n",
    "        'Overall Cond',\n",
    "        'Kitchen Qual',\n",
    "    \n",
    "        # Nominal\n",
    "        'House Style',\n",
    "        'Garage Type',\n",
    "        \n",
    "        # Continuous\n",
    "        'Lot Area',      # Lot size (sf)\n",
    "        'Total Bsmt SF', # Total basement area (sf)\n",
    "        'SalePrice'      # Sale price ($)\n",
    "       ]\n",
    "\n",
    "townhouses[cols].to_csv('data_stg2/ames_townhouses.csv', index=False)"
   ]
  },
  {
   "cell_type": "code",
   "execution_count": null,
   "metadata": {},
   "outputs": [],
   "source": []
  }
 ],
 "metadata": {
  "kernelspec": {
   "display_name": "Python 3",
   "language": "python",
   "name": "python3"
  },
  "language_info": {
   "codemirror_mode": {
    "name": "ipython",
    "version": 3
   },
   "file_extension": ".py",
   "mimetype": "text/x-python",
   "name": "python",
   "nbconvert_exporter": "python",
   "pygments_lexer": "ipython3",
   "version": "3.7.3"
  }
 },
 "nbformat": 4,
 "nbformat_minor": 2
}
