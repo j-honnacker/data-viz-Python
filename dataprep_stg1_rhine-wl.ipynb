{
 "cells": [
  {
   "cell_type": "code",
   "execution_count": 1,
   "metadata": {},
   "outputs": [],
   "source": [
    "import dask.dataframe as dd\n",
    "#from dask.dataframe import melt"
   ]
  },
  {
   "cell_type": "code",
   "execution_count": 2,
   "metadata": {},
   "outputs": [],
   "source": [
    "months = [str(month) for month in range(1,13)]"
   ]
  },
  {
   "cell_type": "code",
   "execution_count": 3,
   "metadata": {},
   "outputs": [],
   "source": [
    "# Read CSVs into DataFrame\n",
    "rhine_wl = dd.read_csv('data_stg0/Rhine-water-levels/Rheinpegel_Tag*_0.csv',\n",
    "                       sep = \";\",\n",
    "                       skiprows = 1, \n",
    "                       names = [\"day\"] + months,\n",
    "                       include_path_column=True\n",
    "                      ).compute()"
   ]
  },
  {
   "cell_type": "code",
   "execution_count": 4,
   "metadata": {},
   "outputs": [
    {
     "data": {
      "text/html": [
       "<div>\n",
       "<style scoped>\n",
       "    .dataframe tbody tr th:only-of-type {\n",
       "        vertical-align: middle;\n",
       "    }\n",
       "\n",
       "    .dataframe tbody tr th {\n",
       "        vertical-align: top;\n",
       "    }\n",
       "\n",
       "    .dataframe thead th {\n",
       "        text-align: right;\n",
       "    }\n",
       "</style>\n",
       "<table border=\"1\" class=\"dataframe\">\n",
       "  <thead>\n",
       "    <tr style=\"text-align: right;\">\n",
       "      <th></th>\n",
       "      <th>day</th>\n",
       "      <th>1</th>\n",
       "      <th>2</th>\n",
       "      <th>3</th>\n",
       "      <th>4</th>\n",
       "      <th>5</th>\n",
       "      <th>6</th>\n",
       "      <th>7</th>\n",
       "      <th>8</th>\n",
       "      <th>9</th>\n",
       "      <th>10</th>\n",
       "      <th>11</th>\n",
       "      <th>12</th>\n",
       "      <th>path</th>\n",
       "    </tr>\n",
       "  </thead>\n",
       "  <tbody>\n",
       "    <tr>\n",
       "      <th>0</th>\n",
       "      <td>1</td>\n",
       "      <td>437</td>\n",
       "      <td>148.0</td>\n",
       "      <td>239</td>\n",
       "      <td>255.0</td>\n",
       "      <td>149</td>\n",
       "      <td>375.0</td>\n",
       "      <td>191</td>\n",
       "      <td>207</td>\n",
       "      <td>234.0</td>\n",
       "      <td>149</td>\n",
       "      <td>240.0</td>\n",
       "      <td>365</td>\n",
       "      <td>D:/data-viz-Python/data_stg0/Rhine-water-level...</td>\n",
       "    </tr>\n",
       "    <tr>\n",
       "      <th>1</th>\n",
       "      <td>2</td>\n",
       "      <td>397</td>\n",
       "      <td>141.0</td>\n",
       "      <td>235</td>\n",
       "      <td>239.0</td>\n",
       "      <td>144</td>\n",
       "      <td>349.0</td>\n",
       "      <td>192</td>\n",
       "      <td>206</td>\n",
       "      <td>221.0</td>\n",
       "      <td>156</td>\n",
       "      <td>241.0</td>\n",
       "      <td>399</td>\n",
       "      <td>D:/data-viz-Python/data_stg0/Rhine-water-level...</td>\n",
       "    </tr>\n",
       "    <tr>\n",
       "      <th>2</th>\n",
       "      <td>3</td>\n",
       "      <td>368</td>\n",
       "      <td>137.0</td>\n",
       "      <td>224</td>\n",
       "      <td>222.0</td>\n",
       "      <td>159</td>\n",
       "      <td>327.0</td>\n",
       "      <td>184</td>\n",
       "      <td>195</td>\n",
       "      <td>197.0</td>\n",
       "      <td>178</td>\n",
       "      <td>258.0</td>\n",
       "      <td>453</td>\n",
       "      <td>D:/data-viz-Python/data_stg0/Rhine-water-level...</td>\n",
       "    </tr>\n",
       "    <tr>\n",
       "      <th>3</th>\n",
       "      <td>4</td>\n",
       "      <td>354</td>\n",
       "      <td>140.0</td>\n",
       "      <td>220</td>\n",
       "      <td>211.0</td>\n",
       "      <td>174</td>\n",
       "      <td>319.0</td>\n",
       "      <td>178</td>\n",
       "      <td>179</td>\n",
       "      <td>184.0</td>\n",
       "      <td>186</td>\n",
       "      <td>253.0</td>\n",
       "      <td>506</td>\n",
       "      <td>D:/data-viz-Python/data_stg0/Rhine-water-level...</td>\n",
       "    </tr>\n",
       "    <tr>\n",
       "      <th>4</th>\n",
       "      <td>5</td>\n",
       "      <td>346</td>\n",
       "      <td>140.0</td>\n",
       "      <td>203</td>\n",
       "      <td>203.0</td>\n",
       "      <td>183</td>\n",
       "      <td>318.0</td>\n",
       "      <td>178</td>\n",
       "      <td>167</td>\n",
       "      <td>178.0</td>\n",
       "      <td>159</td>\n",
       "      <td>245.0</td>\n",
       "      <td>523</td>\n",
       "      <td>D:/data-viz-Python/data_stg0/Rhine-water-level...</td>\n",
       "    </tr>\n",
       "  </tbody>\n",
       "</table>\n",
       "</div>"
      ],
      "text/plain": [
       "   day    1      2    3      4    5      6    7    8      9   10     11   12  \\\n",
       "0    1  437  148.0  239  255.0  149  375.0  191  207  234.0  149  240.0  365   \n",
       "1    2  397  141.0  235  239.0  144  349.0  192  206  221.0  156  241.0  399   \n",
       "2    3  368  137.0  224  222.0  159  327.0  184  195  197.0  178  258.0  453   \n",
       "3    4  354  140.0  220  211.0  174  319.0  178  179  184.0  186  253.0  506   \n",
       "4    5  346  140.0  203  203.0  183  318.0  178  167  178.0  159  245.0  523   \n",
       "\n",
       "                                                path  \n",
       "0  D:/data-viz-Python/data_stg0/Rhine-water-level...  \n",
       "1  D:/data-viz-Python/data_stg0/Rhine-water-level...  \n",
       "2  D:/data-viz-Python/data_stg0/Rhine-water-level...  \n",
       "3  D:/data-viz-Python/data_stg0/Rhine-water-level...  \n",
       "4  D:/data-viz-Python/data_stg0/Rhine-water-level...  "
      ]
     },
     "execution_count": 4,
     "metadata": {},
     "output_type": "execute_result"
    }
   ],
   "source": [
    "# Display head of input DataFrame\n",
    "rhine_wl.head()"
   ]
  },
  {
   "cell_type": "code",
   "execution_count": 5,
   "metadata": {},
   "outputs": [],
   "source": [
    "# Get 'year' from the CSV file name (which ist stored in 'path')\n",
    "rhine_wl['year'] = rhine_wl['path'].str[-10:-6]"
   ]
  },
  {
   "cell_type": "code",
   "execution_count": 6,
   "metadata": {},
   "outputs": [],
   "source": [
    "# Transpose \"month\" columns\n",
    "rhine_wl = rhine_wl.melt(id_vars = [\"year\", \"day\"],\n",
    "                         value_vars = months,\n",
    "                         var_name   = \"month\",\n",
    "                         value_name = \"water-lvl\",\n",
    "                        ).dropna()"
   ]
  },
  {
   "cell_type": "code",
   "execution_count": 7,
   "metadata": {},
   "outputs": [],
   "source": [
    "# Create 'date' column\n",
    "rhine_wl['date'] = (\n",
    "    rhine_wl['year'] + \"-\" + \\\n",
    "    rhine_wl['month'].str.zfill(2) + \"-\" + \\\n",
    "    rhine_wl['day'].astype(str).str.zfill(2)\n",
    ")"
   ]
  },
  {
   "cell_type": "code",
   "execution_count": 8,
   "metadata": {
    "scrolled": true
   },
   "outputs": [],
   "source": [
    "# Ensure type of 'water-lvl' is integer\n",
    "rhine_wl['water-lvl'] = rhine_wl['water-lvl'].astype(int)"
   ]
  },
  {
   "cell_type": "code",
   "execution_count": 9,
   "metadata": {
    "scrolled": false
   },
   "outputs": [
    {
     "data": {
      "text/html": [
       "<div>\n",
       "<style scoped>\n",
       "    .dataframe tbody tr th:only-of-type {\n",
       "        vertical-align: middle;\n",
       "    }\n",
       "\n",
       "    .dataframe tbody tr th {\n",
       "        vertical-align: top;\n",
       "    }\n",
       "\n",
       "    .dataframe thead th {\n",
       "        text-align: right;\n",
       "    }\n",
       "</style>\n",
       "<table border=\"1\" class=\"dataframe\">\n",
       "  <thead>\n",
       "    <tr style=\"text-align: right;\">\n",
       "      <th></th>\n",
       "      <th>year</th>\n",
       "      <th>day</th>\n",
       "      <th>month</th>\n",
       "      <th>water-lvl</th>\n",
       "      <th>date</th>\n",
       "    </tr>\n",
       "  </thead>\n",
       "  <tbody>\n",
       "    <tr>\n",
       "      <th>0</th>\n",
       "      <td>1996</td>\n",
       "      <td>1</td>\n",
       "      <td>1</td>\n",
       "      <td>437</td>\n",
       "      <td>1996-01-01</td>\n",
       "    </tr>\n",
       "    <tr>\n",
       "      <th>1</th>\n",
       "      <td>1996</td>\n",
       "      <td>2</td>\n",
       "      <td>1</td>\n",
       "      <td>397</td>\n",
       "      <td>1996-01-02</td>\n",
       "    </tr>\n",
       "    <tr>\n",
       "      <th>2</th>\n",
       "      <td>1996</td>\n",
       "      <td>3</td>\n",
       "      <td>1</td>\n",
       "      <td>368</td>\n",
       "      <td>1996-01-03</td>\n",
       "    </tr>\n",
       "    <tr>\n",
       "      <th>3</th>\n",
       "      <td>1996</td>\n",
       "      <td>4</td>\n",
       "      <td>1</td>\n",
       "      <td>354</td>\n",
       "      <td>1996-01-04</td>\n",
       "    </tr>\n",
       "    <tr>\n",
       "      <th>4</th>\n",
       "      <td>1996</td>\n",
       "      <td>5</td>\n",
       "      <td>1</td>\n",
       "      <td>346</td>\n",
       "      <td>1996-01-05</td>\n",
       "    </tr>\n",
       "  </tbody>\n",
       "</table>\n",
       "</div>"
      ],
      "text/plain": [
       "   year  day month  water-lvl        date\n",
       "0  1996    1     1        437  1996-01-01\n",
       "1  1996    2     1        397  1996-01-02\n",
       "2  1996    3     1        368  1996-01-03\n",
       "3  1996    4     1        354  1996-01-04\n",
       "4  1996    5     1        346  1996-01-05"
      ]
     },
     "execution_count": 9,
     "metadata": {},
     "output_type": "execute_result"
    }
   ],
   "source": [
    "# Display head of output DataFrame\n",
    "rhine_wl.head()"
   ]
  },
  {
   "cell_type": "code",
   "execution_count": 10,
   "metadata": {},
   "outputs": [],
   "source": [
    "# Save output DataFrame as CSV\n",
    "rhine_wl[['date', 'water-lvl']].to_csv(\"data_stg1/rhine_wl.csv\", index=False)"
   ]
  }
 ],
 "metadata": {
  "kernelspec": {
   "display_name": "Python 3",
   "language": "python",
   "name": "python3"
  },
  "language_info": {
   "codemirror_mode": {
    "name": "ipython",
    "version": 3
   },
   "file_extension": ".py",
   "mimetype": "text/x-python",
   "name": "python",
   "nbconvert_exporter": "python",
   "pygments_lexer": "ipython3",
   "version": "3.7.6"
  }
 },
 "nbformat": 4,
 "nbformat_minor": 2
}
